{
 "cells": [
  {
   "cell_type": "code",
   "execution_count": 1,
   "metadata": {},
   "outputs": [
    {
     "name": "stdout",
     "output_type": "stream",
     "text": [
      "TDT version: 0.6.6\n",
      "NeuroKit2 version: 0.2.10\n",
      "NumPy version: 1.26.4\n",
      "Pandas version: 2.2.3\n",
      "Matplotlib version: 3.10.0\n"
     ]
    }
   ],
   "source": [
    "# Verify library versions\n",
    "import tdt\n",
    "import neurokit2 as nk\n",
    "from neurokit2 import signal_filter\n",
    "import numpy as np\n",
    "import pandas as pd\n",
    "import matplotlib.pyplot as plt\n",
    "import matplotlib\n",
    "import signal_processing as sp\n",
    "import importlib\n",
    "\n",
    "print(\"TDT version:\", tdt.__version__)\n",
    "print(\"NeuroKit2 version:\", nk.__version__)\n",
    "print(\"NumPy version:\", np.__version__)\n",
    "print(\"Pandas version:\", pd.__version__)\n",
    "print(\"Matplotlib version:\", matplotlib.__version__)"
   ]
  },
  {
   "cell_type": "code",
   "execution_count": 2,
   "metadata": {},
   "outputs": [
    {
     "name": "stdout",
     "output_type": "stream",
     "text": [
      "read from t=0s to t=302.25s\n",
      "epocs\t[struct]\n",
      "snips\t[struct]\n",
      "streams\t[struct]\n",
      "scalars\t[struct]\n",
      "info\t[struct]\n",
      "time_ranges:\tarray([[ 0.],\n",
      "       [inf]])\n"
     ]
    }
   ],
   "source": [
    "tdt_path = r'C:\\Users\\tomhu\\Desktop\\Code\\respiratory_pilot\\EcgData'\n",
    "\n",
    "mouse = tdt.read_block(tdt_path)\n",
    "\n",
    "print(mouse)"
   ]
  },
  {
   "cell_type": "markdown",
   "metadata": {},
   "source": [
    "print(f\"streams data: {mouse.streams.keys()}\")\n",
    "print(f\"epocs: {mouse.epocs.keys()}\")\n",
    "print(f\"info data: {cagemate.info.keys()}\")\n",
    "print(f\"scalar data: {cagemate.scalars.keys()}\")\n",
    "print(f\"snips data: {cagemate.snips.keys()}\")"
   ]
  }
 ],
 "metadata": {
  "kernelspec": {
   "display_name": "research_env",
   "language": "python",
   "name": "python3"
  },
  "language_info": {
   "codemirror_mode": {
    "name": "ipython",
    "version": 3
   },
   "file_extension": ".py",
   "mimetype": "text/x-python",
   "name": "python",
   "nbconvert_exporter": "python",
   "pygments_lexer": "ipython3",
   "version": "3.12.4"
  }
 },
 "nbformat": 4,
 "nbformat_minor": 2
}
