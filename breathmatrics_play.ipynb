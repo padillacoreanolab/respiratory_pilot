{
 "cells": [
  {
   "cell_type": "code",
   "execution_count": 3,
   "metadata": {},
   "outputs": [
    {
     "name": "stdout",
     "output_type": "stream",
     "text": [
      "TDT version: 0.6.6\n",
      "NeuroKit2 version: 0.2.10\n",
      "NumPy version: 1.26.4\n",
      "Pandas version: 2.2.3\n",
      "Matplotlib version: 3.10.0\n"
     ]
    }
   ],
   "source": [
    "# Import and verify library versions\n",
    "import tdt\n",
    "import neurokit2 as nk\n",
    "from neurokit2 import signal_filter\n",
    "import numpy as np\n",
    "import pandas as pd\n",
    "import matplotlib as plt\n",
    "from scipy.fft import fft, fftfreq\n",
    "from breathmetrics.breathmetricsClass import bmObject\n",
    "\n",
    "print(\"TDT version:\", tdt.__version__)\n",
    "print(\"NeuroKit2 version:\", nk.__version__)\n",
    "print(\"NumPy version:\", np.__version__)\n",
    "print(\"Pandas version:\", pd.__version__)\n",
    "print(\"Matplotlib version:\", plt.__version__)"
   ]
  },
  {
   "cell_type": "code",
   "execution_count": 4,
   "metadata": {},
   "outputs": [],
   "source": [
    "import sys\n",
    "\n",
    "# Add the full path to the breathmetrics_python-main folder\n",
    "sys.path.insert(0, r\"C:\\Users\\sjs93\\OneDrive\\Documents\\GitHub\\respiratory_pilot\\breathmetrics_python-main\")\n",
    "\n",
    "from breathmetrics.breathmetricsClass import bmObject\n"
   ]
  },
  {
   "cell_type": "code",
   "execution_count": 5,
   "metadata": {},
   "outputs": [
    {
     "name": "stdout",
     "output_type": "stream",
     "text": [
      "Found Synapse note file: E:\\resp_test_data\\nasal_test-241017-143820\\Notes.txt\n",
      "read from t=0s to t=553.14s\n",
      "epocs\t[struct]\n",
      "snips\t[struct]\n",
      "streams\t[struct]\n",
      "scalars\t[struct]\n",
      "info\t[struct]\n",
      "time_ranges:\tarray([[ 0.],\n",
      "       [inf]])\n"
     ]
    }
   ],
   "source": [
    "# Specify the TDT file path\n",
    "tdt_file_path = r'E:\\resp_test_data\\nasal_test-241017-143820'\n",
    "\n",
    "# Load the TDT block\n",
    "data = tdt.read_block(tdt_file_path)\n",
    "\n",
    "# Print the data structure to explore it\n",
    "print(data)\n"
   ]
  },
  {
   "cell_type": "code",
   "execution_count": 6,
   "metadata": {},
   "outputs": [
    {
     "name": "stdout",
     "output_type": "stream",
     "text": [
      "Resp\t[struct]\n"
     ]
    }
   ],
   "source": [
    "# Print available streams\n",
    "print(data.streams)\n"
   ]
  },
  {
   "cell_type": "code",
   "execution_count": 7,
   "metadata": {},
   "outputs": [
    {
     "name": "stdout",
     "output_type": "stream",
     "text": [
      "Respiration Signal: [-0.2121004  -0.02532998  0.44861522 ...  0.41840237  0.30457005\n",
      "  0.11566338]\n",
      "Sampling Rate (Hz): 101.72525787353516\n"
     ]
    }
   ],
   "source": [
    "# Replace 'YourStreamName' with the actual stream name (e.g., 'Resp')\n",
    "stream_name = 'Resp'\n",
    "\n",
    "# Extract the signal and sampling rate\n",
    "resp_signal = data.streams[stream_name].data  # The continuous signal\n",
    "srate = data.streams[stream_name].fs         # Sampling rate in Hz\n",
    "\n",
    "# Convert to a NumPy array (if not already)\n",
    "resp_array = np.array(resp_signal)\n",
    "\n",
    "print(\"Respiration Signal:\", resp_array)\n",
    "print(\"Sampling Rate (Hz):\", srate)\n"
   ]
  },
  {
   "cell_type": "code",
   "execution_count": 17,
   "metadata": {},
   "outputs": [],
   "source": [
    "# Example: your respiratory signal in a numpy array\n",
    "resp_array = np.array([resp_array])\n",
    "sampling_rate = 1000  # Example: 1000 Hz sampling rate\n",
    "\n",
    "# Create bmObject instance\n",
    "bm = bmObject(resp=resp_array, srate=sampling_rate, dataType='rodentAirflow')\n"
   ]
  },
  {
   "cell_type": "code",
   "execution_count": null,
   "metadata": {},
   "outputs": [],
   "source": [
    "import numpy as np\n",
    "from breathmetrics.breathmetricsClass import bmObject\n",
    "\n",
    "# Example: Import your respiratory data as a numpy array\n",
    "resp_array = np.array([resp_array])\n",
    "\n",
    "# Define sampling rate (example: 1000 Hz)\n",
    "sampling_rate = 1000\n",
    "\n",
    "# Create bmObject for rodentAirflow\n",
    "bm = bmObject(resp=resp_array, srate=sampling_rate, dataType='rodentAirflow')\n",
    "\n",
    "\n"
   ]
  }
 ],
 "metadata": {
  "kernelspec": {
   "display_name": "resp_env",
   "language": "python",
   "name": "python3"
  },
  "language_info": {
   "codemirror_mode": {
    "name": "ipython",
    "version": 3
   },
   "file_extension": ".py",
   "mimetype": "text/x-python",
   "name": "python",
   "nbconvert_exporter": "python",
   "pygments_lexer": "ipython3",
   "version": "3.10.9"
  }
 },
 "nbformat": 4,
 "nbformat_minor": 2
}
